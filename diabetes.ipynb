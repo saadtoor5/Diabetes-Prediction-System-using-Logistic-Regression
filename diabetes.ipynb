{
 "cells": [
  {
   "cell_type": "code",
   "execution_count": 6,
   "id": "43d48355",
   "metadata": {},
   "outputs": [],
   "source": [
    "#Importing necessary libraries\n",
    "import pandas as pd\n",
    "from sklearn.model_selection import train_test_split\n",
    "from sklearn.linear_model import LogisticRegression\n",
    "from sklearn.metrics import accuracy_score, confusion_matrix, classification_report\n",
    "import seaborn as sns\n",
    "import matplotlib.pylab as plt"
   ]
  },
  {
   "cell_type": "code",
   "execution_count": 7,
   "id": "91481131",
   "metadata": {},
   "outputs": [
    {
     "data": {
      "text/html": [
       "<div>\n",
       "<style scoped>\n",
       "    .dataframe tbody tr th:only-of-type {\n",
       "        vertical-align: middle;\n",
       "    }\n",
       "\n",
       "    .dataframe tbody tr th {\n",
       "        vertical-align: top;\n",
       "    }\n",
       "\n",
       "    .dataframe thead th {\n",
       "        text-align: right;\n",
       "    }\n",
       "</style>\n",
       "<table border=\"1\" class=\"dataframe\">\n",
       "  <thead>\n",
       "    <tr style=\"text-align: right;\">\n",
       "      <th></th>\n",
       "      <th>Pregnancies</th>\n",
       "      <th>Glucose</th>\n",
       "      <th>BloodPressure</th>\n",
       "      <th>SkinThickness</th>\n",
       "      <th>Insulin</th>\n",
       "      <th>BMI</th>\n",
       "      <th>DiabetesPedigreeFunction</th>\n",
       "      <th>Age</th>\n",
       "      <th>Outcome</th>\n",
       "    </tr>\n",
       "  </thead>\n",
       "  <tbody>\n",
       "    <tr>\n",
       "      <th>0</th>\n",
       "      <td>6</td>\n",
       "      <td>148</td>\n",
       "      <td>72</td>\n",
       "      <td>35</td>\n",
       "      <td>0</td>\n",
       "      <td>33.6</td>\n",
       "      <td>0.627</td>\n",
       "      <td>50</td>\n",
       "      <td>1</td>\n",
       "    </tr>\n",
       "    <tr>\n",
       "      <th>1</th>\n",
       "      <td>1</td>\n",
       "      <td>85</td>\n",
       "      <td>66</td>\n",
       "      <td>29</td>\n",
       "      <td>0</td>\n",
       "      <td>26.6</td>\n",
       "      <td>0.351</td>\n",
       "      <td>31</td>\n",
       "      <td>0</td>\n",
       "    </tr>\n",
       "    <tr>\n",
       "      <th>2</th>\n",
       "      <td>8</td>\n",
       "      <td>183</td>\n",
       "      <td>64</td>\n",
       "      <td>0</td>\n",
       "      <td>0</td>\n",
       "      <td>23.3</td>\n",
       "      <td>0.672</td>\n",
       "      <td>32</td>\n",
       "      <td>1</td>\n",
       "    </tr>\n",
       "    <tr>\n",
       "      <th>3</th>\n",
       "      <td>1</td>\n",
       "      <td>89</td>\n",
       "      <td>66</td>\n",
       "      <td>23</td>\n",
       "      <td>94</td>\n",
       "      <td>28.1</td>\n",
       "      <td>0.167</td>\n",
       "      <td>21</td>\n",
       "      <td>0</td>\n",
       "    </tr>\n",
       "    <tr>\n",
       "      <th>4</th>\n",
       "      <td>0</td>\n",
       "      <td>137</td>\n",
       "      <td>40</td>\n",
       "      <td>35</td>\n",
       "      <td>168</td>\n",
       "      <td>43.1</td>\n",
       "      <td>2.288</td>\n",
       "      <td>33</td>\n",
       "      <td>1</td>\n",
       "    </tr>\n",
       "  </tbody>\n",
       "</table>\n",
       "</div>"
      ],
      "text/plain": [
       "   Pregnancies  Glucose  BloodPressure  SkinThickness  Insulin   BMI  \\\n",
       "0            6      148             72             35        0  33.6   \n",
       "1            1       85             66             29        0  26.6   \n",
       "2            8      183             64              0        0  23.3   \n",
       "3            1       89             66             23       94  28.1   \n",
       "4            0      137             40             35      168  43.1   \n",
       "\n",
       "   DiabetesPedigreeFunction  Age  Outcome  \n",
       "0                     0.627   50        1  \n",
       "1                     0.351   31        0  \n",
       "2                     0.672   32        1  \n",
       "3                     0.167   21        0  \n",
       "4                     2.288   33        1  "
      ]
     },
     "execution_count": 7,
     "metadata": {},
     "output_type": "execute_result"
    }
   ],
   "source": [
    "#Loading Pima Indian Diabetes Dataset\n",
    "data = pd.read_csv('diabetes.csv')\n",
    "data.head()"
   ]
  },
  {
   "cell_type": "code",
   "execution_count": null,
   "id": "18580ad2",
   "metadata": {},
   "outputs": [],
   "source": [
    "X = data.drop('Outcome', axis=1)\n",
    "y = data['Outcome']\n",
    "\n",
    "#Splitting data into training and testing data\n",
    "X_train, X_test, y_train, y_test = train_test_split(X,y,test_size=0.2,random_state=42)"
   ]
  },
  {
   "cell_type": "code",
   "execution_count": null,
   "id": "6860fd5a",
   "metadata": {},
   "outputs": [],
   "source": [
    "#Training model on Logistic Regression\n",
    "model = LogisticRegression(max_iter=1000)\n",
    "model.fit(X_train,y_train)\n",
    "\n",
    "#Making prediction on the test data\n",
    "y_pred = model.predict(X_test)"
   ]
  },
  {
   "cell_type": "code",
   "execution_count": null,
   "id": "074ea1f6",
   "metadata": {},
   "outputs": [
    {
     "name": "stdout",
     "output_type": "stream",
     "text": [
      "Accuracy Score: 0.7467532467532467\n",
      "Confusion Matrix: [[78 21]\n",
      " [18 37]]\n",
      "Classification Report:               precision    recall  f1-score   support\n",
      "\n",
      "           0       0.81      0.79      0.80        99\n",
      "           1       0.64      0.67      0.65        55\n",
      "\n",
      "    accuracy                           0.75       154\n",
      "   macro avg       0.73      0.73      0.73       154\n",
      "weighted avg       0.75      0.75      0.75       154\n",
      "\n"
     ]
    }
   ],
   "source": [
    "#Evaluation\n",
    "accuracy = accuracy_score(y_test, y_pred)\n",
    "con_mat = confusion_matrix(y_test,y_pred)\n",
    "class_rep = classification_report(y_test,y_pred)\n",
    "\n",
    "print(f\"Accuracy Score: {accuracy}\\nConfusion Matrix: {con_mat}\\nClassification Report: {class_rep}\")"
   ]
  },
  {
   "cell_type": "code",
   "execution_count": null,
   "id": "56ede9df",
   "metadata": {},
   "outputs": [
    {
     "data": {
      "image/png": "[encoded data removed]",
      "text/plain": [
       "<Figure size 640x480 with 2 Axes>"
      ]
     },
     "metadata": {},
     "output_type": "display_data"
    }
   ],
   "source": [
    "#Visualization\n",
    "sns.heatmap(con_mat, annot=True, fmt='d', cmap='Blues')\n",
    "plt.title(\"Confusion Matrix\")\n",
    "plt.xlabel(\"Predicted\")\n",
    "plt.ylabel(\"Actual\")\n",
    "plt.show()"
   ]
  },
  {
   "cell_type": "code",
   "execution_count": null,
   "id": "6fa251c8",
   "metadata": {},
   "outputs": [],
   "source": [
    "\n",
    "# Function to predict using user input\n",
    "def user_input_data(pg, gl, bp, st, il, bm, dp, ag):\n",
    "    new_data = pd.DataFrame({\n",
    "        'Pregnancies': [pg],\n",
    "        'Glucose': [gl],\n",
    "        'BloodPressure': [bp],\n",
    "        'SkinThickness': [st],\n",
    "        'Insulin': [il],\n",
    "        'BMI': [bm],\n",
    "        'DiabetesPedigreeFunction': [dp],\n",
    "        'Age': [ag]\n",
    "    })\n",
    "\n",
    "    predicted_result = model.predict(new_data)\n",
    "    return predicted_result\n",
    "\n",
    "\n",
    "#Function to get the data input from the user into a proper format\n",
    "def get_user_input():\n",
    "    print(\"Please enter the following details:\\n\")\n",
    "\n",
    "    try:\n",
    "        pg = int(input(\"🍼 Pregnancies (0 or more): \"))\n",
    "        gl = int(input(\"🩸 Glucose Level (e.g., 85–200): \"))\n",
    "        bp = int(input(\"💓 Blood Pressure Level (mm Hg): \"))\n",
    "        st = int(input(\"📏 Skin Thickness (mm): \"))\n",
    "        il = int(input(\"💉 Insulin Level (mu U/ml): \"))\n",
    "        bm = float(input(\"⚖️ BMI (e.g., 18.5–50.0): \"))\n",
    "        dp = float(input(\"🧬 Diabetes Pedigree Function (e.g., 0.2–2.5): \"))\n",
    "        ag = int(input(\"🎂 Age (years): \"))\n",
    "\n",
    "        return pg, gl, bp, st, il, bm, dp, ag\n",
    "\n",
    "    except ValueError:\n",
    "        print(\"\\n❌ Invalid input detected. Please enter numeric values only.\\n\")\n",
    "        return get_user_input()\n"
   ]
  },
  {
   "cell_type": "code",
   "execution_count": 14,
   "id": "1afdfebf",
   "metadata": {},
   "outputs": [
    {
     "name": "stdout",
     "output_type": "stream",
     "text": [
      "Please enter the following details:\n",
      "\n",
      "\n",
      "🔍 Predicted Result: 🟥 Diabetic\n"
     ]
    }
   ],
   "source": [
    "# Collect and predict user input\n",
    "pg, gl, bp, st, il, bm, dp, ag = get_user_input()\n",
    "result = user_input_data(pg, gl, bp, st, il, bm, dp, ag)\n",
    "\n",
    "print(f\"\\n🔍 Predicted Result: {'🟥 Diabetic' if result == 1 else '🟩 Non Diabetic'}\")\n"
   ]
  }
 ],
 "metadata": {
  "kernelspec": {
   "display_name": "Python 3",
   "language": "python",
   "name": "python3"
  },
  "language_info": {
   "codemirror_mode": {
    "name": "ipython",
    "version": 3
   },
   "file_extension": ".py",
   "mimetype": "text/x-python",
   "name": "python",
   "nbconvert_exporter": "python",
   "pygments_lexer": "ipython3",
   "version": "3.13.3"
  }
 },
 "nbformat": 4,
 "nbformat_minor": 5
}
